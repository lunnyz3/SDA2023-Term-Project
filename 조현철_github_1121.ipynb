{
 "cells": [
  {
   "cell_type": "code",
   "execution_count": 1,
   "id": "0fa8bfa9",
   "metadata": {},
   "outputs": [
    {
     "ename": "IndentationError",
     "evalue": "expected an indented block (1365934745.py, line 22)",
     "output_type": "error",
     "traceback": [
      "\u001b[1;36m  Input \u001b[1;32mIn [1]\u001b[1;36m\u001b[0m\n\u001b[1;33m    c1 = Customer(\"abc@abc.com\", \"12341234\")\u001b[0m\n\u001b[1;37m    ^\u001b[0m\n\u001b[1;31mIndentationError\u001b[0m\u001b[1;31m:\u001b[0m expected an indented block\n"
     ]
    }
   ],
   "source": [
    "class LoggedError (Exception):\n",
    "    def __init__(self, value):\n",
    "        self.value = value\n",
    "        \n",
    "    def __str__(self):\n",
    "        return repr(self.value)\n",
    "    \n",
    "class Member(object):\n",
    "    nextId = 0\n",
    "    \n",
    "    def __init__(self):\n",
    "        self.id = Member.nextId\n",
    "        Member.nextId +=1\n",
    "        \n",
    "    def getId(self):\n",
    "        return self.id\n",
    "    \n",
    "class Customer(Member):\n",
    "    \n",
    "    def __init__(self, email, password):\n",
    "        self.container = {email, password}\n",
    "    def \n",
    "        \n",
    "\n",
    "\n",
    "c1 = Customer(\"abc@abc.com\", \"12341234\")\n",
    "c2 = Customer(\"def@def.com\", \"56785678\")\n",
    "c3 = Customer(\"hello@world.com\", \"qwerty\")\n",
    "\n",
    "print(\"Customer 1 is {}\".format(c1))\n",
    "print(\"Customer 2 is {}\".format(c2))\n",
    "print(\"Customer 3 is {}\".format(c3))\n",
    "print(\"Customer 1's id is {}\".format(c1.getId()))\n",
    "print(\"Customer 2's id is {}\".format(c2.getId()))\n",
    "print(\"Customer 3's id is {}\".format(c3.getId()))\n",
    "\n",
    "try:\n",
    "    print(\"Customer 1 sign-in {}\".format(c1.signin(\"abc@abc.com\", \"12341234\")))\n",
    "except LoggedError as e:\n",
    "    print(e)\n",
    "\n",
    "try:\n",
    "    print(\"Customer 2 sign-out {}\".format(c2.signout()))\n",
    "except LoggedError as e:\n",
    "    print(e)\n",
    "    \n",
    "try:\n",
    "    print(\"Customer 3 sign-in {}\".format(c3.signin(\"abc@abc.com\", \"12341234\")))\n",
    "except LoggedError as e:\n",
    "    print(e)"
   ]
  }
 ],
 "metadata": {
  "kernelspec": {
   "display_name": "Python 3 (ipykernel)",
   "language": "python",
   "name": "python3"
  },
  "language_info": {
   "codemirror_mode": {
    "name": "ipython",
    "version": 3
   },
   "file_extension": ".py",
   "mimetype": "text/x-python",
   "name": "python",
   "nbconvert_exporter": "python",
   "pygments_lexer": "ipython3",
   "version": "3.9.12"
  }
 },
 "nbformat": 4,
 "nbformat_minor": 5
}
